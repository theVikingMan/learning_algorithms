{
 "cells": [
  {
   "cell_type": "code",
   "id": "initial_id",
   "metadata": {
    "collapsed": true,
    "ExecuteTime": {
     "end_time": "2024-07-23T12:46:30.337830Z",
     "start_time": "2024-07-23T12:46:30.122414Z"
    }
   },
   "source": [
    "import numpy as np\n",
    "import pandas as pd\n",
    "from utils import Resampling, Measures\n",
    "\n",
    "import matplotlib.pyplot as plt\n",
    "import seaborn as sns\n",
    "\n",
    "import scipy\n",
    "from sklearn import model_selection, preprocessing, linear_model, metrics"
   ],
   "outputs": [],
   "execution_count": 1
  },
  {
   "metadata": {
    "ExecuteTime": {
     "end_time": "2024-07-23T12:47:02.002316Z",
     "start_time": "2024-07-23T12:47:01.808776Z"
    }
   },
   "cell_type": "code",
   "source": "data = pd.read_csv('./data/airline_satisfaction.csv')",
   "id": "88807697b866a8c",
   "outputs": [],
   "execution_count": 2
  },
  {
   "metadata": {
    "ExecuteTime": {
     "end_time": "2024-07-23T12:47:09.244129Z",
     "start_time": "2024-07-23T12:47:09.241132Z"
    }
   },
   "cell_type": "code",
   "source": [
    "n, m = data.shape\n",
    "print(f'Rows: {n} \\nFeatures: {m}')"
   ],
   "id": "dcb5797d540b8f2d",
   "outputs": [
    {
     "name": "stdout",
     "output_type": "stream",
     "text": [
      "Rows: 128739 \n",
      "Features: 23\n"
     ]
    }
   ],
   "execution_count": 3
  },
  {
   "metadata": {
    "ExecuteTime": {
     "end_time": "2024-07-23T12:47:48.292620Z",
     "start_time": "2024-07-23T12:47:48.206909Z"
    }
   },
   "cell_type": "code",
   "source": [
    "data['satisfaction'] = data['satisfaction'].map({\n",
    "    \"satisfied\": 1,\n",
    "    \"dissatisfied\": 0\n",
    "})\n",
    "\n",
    "data[\"Gender\"] = data[\"Gender\"].map({\n",
    "    \"Male\": 1,\n",
    "    \"Female\": 0\n",
    "})\n",
    "\n",
    "data[\"Class\"] = data[\"Class\"].map({\n",
    "    \"Business\": 3,\n",
    "    \"Eco Plus\": 2,\n",
    "    \"Eco\": 1,\n",
    "})\n",
    "\n",
    "data[\"Customer Type\"] = data[\"Customer Type\"].map({\n",
    "    \"Loyal Customer\": 1, \n",
    "    \"disloyal Customer\": 0\n",
    "})\n",
    "\n",
    "data[\"Type of Travel\"] = data[\"Type of Travel\"].map({\n",
    "    \"Business travel\": 2,\n",
    "    \"Personal Travel\": 1\n",
    "})\n",
    "\n",
    "data.drop(columns='Arrival Delay in Minutes', inplace=True)"
   ],
   "id": "8e215fa88454dbd5",
   "outputs": [],
   "execution_count": 5
  },
  {
   "metadata": {
    "ExecuteTime": {
     "end_time": "2024-07-23T12:48:13.957394Z",
     "start_time": "2024-07-23T12:48:13.917042Z"
    }
   },
   "cell_type": "code",
   "source": [
    "target = 'satisfaction'\n",
    "\n",
    "X = data.drop([target], axis=1)\n",
    "y = data[target]"
   ],
   "id": "a18bb36e038e0290",
   "outputs": [],
   "execution_count": 6
  },
  {
   "metadata": {},
   "cell_type": "code",
   "outputs": [],
   "execution_count": null,
   "source": [
    "k = 10\n",
    "# fold: validation_sets, X_test, X_train\n",
    "folds = kfold_stratify(X, y, k)"
   ],
   "id": "3db3f698a6a90489"
  }
 ],
 "metadata": {
  "kernelspec": {
   "display_name": "Python 3",
   "language": "python",
   "name": "python3"
  },
  "language_info": {
   "codemirror_mode": {
    "name": "ipython",
    "version": 2
   },
   "file_extension": ".py",
   "mimetype": "text/x-python",
   "name": "python",
   "nbconvert_exporter": "python",
   "pygments_lexer": "ipython2",
   "version": "2.7.6"
  }
 },
 "nbformat": 4,
 "nbformat_minor": 5
}
