{
 "cells": [
  {
   "cell_type": "code",
   "id": "initial_id",
   "metadata": {
    "collapsed": true,
    "ExecuteTime": {
     "end_time": "2024-07-25T13:29:52.369142Z",
     "start_time": "2024-07-25T13:29:52.360983Z"
    }
   },
   "source": [
    "import numpy as np\n",
    "import pandas as pd\n",
    "from utils import DataManipulation, Measures\n",
    "\n",
    "import matplotlib.pyplot as plt\n",
    "import seaborn as sns\n",
    "\n",
    "import scipy\n",
    "from sklearn import model_selection, preprocessing, linear_model, metrics\n",
    "from sklearn.pipeline import Pipeline\n",
    "\n",
    "plt.style.use(\"ggplot\")\n",
    "pd.set_option('display.max_columns', 200)"
   ],
   "outputs": [],
   "execution_count": 39
  },
  {
   "metadata": {
    "ExecuteTime": {
     "end_time": "2024-07-25T13:26:35.007507Z",
     "start_time": "2024-07-25T13:26:35.000473Z"
    }
   },
   "cell_type": "code",
   "source": "data = pd.read_csv('./data/advertising.csv')",
   "id": "88807697b866a8c",
   "outputs": [],
   "execution_count": 2
  },
  {
   "metadata": {
    "ExecuteTime": {
     "end_time": "2024-07-25T13:26:35.012412Z",
     "start_time": "2024-07-25T13:26:35.009001Z"
    }
   },
   "cell_type": "code",
   "source": [
    "n, m = data.shape\n",
    "print(f'Rows: {n} \\nFeatures: {m}')"
   ],
   "id": "dcb5797d540b8f2d",
   "outputs": [
    {
     "name": "stdout",
     "output_type": "stream",
     "text": [
      "Rows: 200 \n",
      "Features: 5\n"
     ]
    }
   ],
   "execution_count": 3
  },
  {
   "metadata": {
    "ExecuteTime": {
     "end_time": "2024-07-25T13:26:35.016570Z",
     "start_time": "2024-07-25T13:26:35.013397Z"
    }
   },
   "cell_type": "code",
   "source": "data.drop(\"Idx\", axis=1, inplace=True)",
   "id": "5fdf629c1c66c225",
   "outputs": [],
   "execution_count": 4
  },
  {
   "metadata": {
    "ExecuteTime": {
     "end_time": "2024-07-25T13:26:35.028786Z",
     "start_time": "2024-07-25T13:26:35.017553Z"
    }
   },
   "cell_type": "code",
   "source": "data.head(10)",
   "id": "65eb7d6bfb621e6a",
   "outputs": [
    {
     "data": {
      "text/plain": [
       "      TV  radio  newspaper  sales\n",
       "0  230.1   37.8       69.2   22.1\n",
       "1   44.5   39.3       45.1   10.4\n",
       "2   17.2   45.9       69.3    9.3\n",
       "3  151.5   41.3       58.5   18.5\n",
       "4  180.8   10.8       58.4   12.9\n",
       "5    8.7   48.9       75.0    7.2\n",
       "6   57.5   32.8       23.5   11.8\n",
       "7  120.2   19.6       11.6   13.2\n",
       "8    8.6    2.1        1.0    4.8\n",
       "9  199.8    2.6       21.2   10.6"
      ],
      "text/html": [
       "<div>\n",
       "<style scoped>\n",
       "    .dataframe tbody tr th:only-of-type {\n",
       "        vertical-align: middle;\n",
       "    }\n",
       "\n",
       "    .dataframe tbody tr th {\n",
       "        vertical-align: top;\n",
       "    }\n",
       "\n",
       "    .dataframe thead th {\n",
       "        text-align: right;\n",
       "    }\n",
       "</style>\n",
       "<table border=\"1\" class=\"dataframe\">\n",
       "  <thead>\n",
       "    <tr style=\"text-align: right;\">\n",
       "      <th></th>\n",
       "      <th>TV</th>\n",
       "      <th>radio</th>\n",
       "      <th>newspaper</th>\n",
       "      <th>sales</th>\n",
       "    </tr>\n",
       "  </thead>\n",
       "  <tbody>\n",
       "    <tr>\n",
       "      <th>0</th>\n",
       "      <td>230.1</td>\n",
       "      <td>37.8</td>\n",
       "      <td>69.2</td>\n",
       "      <td>22.1</td>\n",
       "    </tr>\n",
       "    <tr>\n",
       "      <th>1</th>\n",
       "      <td>44.5</td>\n",
       "      <td>39.3</td>\n",
       "      <td>45.1</td>\n",
       "      <td>10.4</td>\n",
       "    </tr>\n",
       "    <tr>\n",
       "      <th>2</th>\n",
       "      <td>17.2</td>\n",
       "      <td>45.9</td>\n",
       "      <td>69.3</td>\n",
       "      <td>9.3</td>\n",
       "    </tr>\n",
       "    <tr>\n",
       "      <th>3</th>\n",
       "      <td>151.5</td>\n",
       "      <td>41.3</td>\n",
       "      <td>58.5</td>\n",
       "      <td>18.5</td>\n",
       "    </tr>\n",
       "    <tr>\n",
       "      <th>4</th>\n",
       "      <td>180.8</td>\n",
       "      <td>10.8</td>\n",
       "      <td>58.4</td>\n",
       "      <td>12.9</td>\n",
       "    </tr>\n",
       "    <tr>\n",
       "      <th>5</th>\n",
       "      <td>8.7</td>\n",
       "      <td>48.9</td>\n",
       "      <td>75.0</td>\n",
       "      <td>7.2</td>\n",
       "    </tr>\n",
       "    <tr>\n",
       "      <th>6</th>\n",
       "      <td>57.5</td>\n",
       "      <td>32.8</td>\n",
       "      <td>23.5</td>\n",
       "      <td>11.8</td>\n",
       "    </tr>\n",
       "    <tr>\n",
       "      <th>7</th>\n",
       "      <td>120.2</td>\n",
       "      <td>19.6</td>\n",
       "      <td>11.6</td>\n",
       "      <td>13.2</td>\n",
       "    </tr>\n",
       "    <tr>\n",
       "      <th>8</th>\n",
       "      <td>8.6</td>\n",
       "      <td>2.1</td>\n",
       "      <td>1.0</td>\n",
       "      <td>4.8</td>\n",
       "    </tr>\n",
       "    <tr>\n",
       "      <th>9</th>\n",
       "      <td>199.8</td>\n",
       "      <td>2.6</td>\n",
       "      <td>21.2</td>\n",
       "      <td>10.6</td>\n",
       "    </tr>\n",
       "  </tbody>\n",
       "</table>\n",
       "</div>"
      ]
     },
     "execution_count": 5,
     "metadata": {},
     "output_type": "execute_result"
    }
   ],
   "execution_count": 5
  },
  {
   "metadata": {
    "ExecuteTime": {
     "end_time": "2024-07-25T13:26:35.032472Z",
     "start_time": "2024-07-25T13:26:35.029755Z"
    }
   },
   "cell_type": "code",
   "source": "data.columns",
   "id": "5e65d8ccc518c85",
   "outputs": [
    {
     "data": {
      "text/plain": [
       "Index(['TV', 'radio', 'newspaper', 'sales'], dtype='object')"
      ]
     },
     "execution_count": 6,
     "metadata": {},
     "output_type": "execute_result"
    }
   ],
   "execution_count": 6
  },
  {
   "metadata": {
    "ExecuteTime": {
     "end_time": "2024-07-25T13:26:35.044969Z",
     "start_time": "2024-07-25T13:26:35.033362Z"
    }
   },
   "cell_type": "code",
   "source": "data.describe()",
   "id": "e8508adb7ed438e0",
   "outputs": [
    {
     "data": {
      "text/plain": [
       "               TV       radio   newspaper       sales\n",
       "count  200.000000  200.000000  200.000000  200.000000\n",
       "mean   147.042500   23.264000   30.554000   14.022500\n",
       "std     85.854236   14.846809   21.778621    5.217457\n",
       "min      0.700000    0.000000    0.300000    1.600000\n",
       "25%     74.375000    9.975000   12.750000   10.375000\n",
       "50%    149.750000   22.900000   25.750000   12.900000\n",
       "75%    218.825000   36.525000   45.100000   17.400000\n",
       "max    296.400000   49.600000  114.000000   27.000000"
      ],
      "text/html": [
       "<div>\n",
       "<style scoped>\n",
       "    .dataframe tbody tr th:only-of-type {\n",
       "        vertical-align: middle;\n",
       "    }\n",
       "\n",
       "    .dataframe tbody tr th {\n",
       "        vertical-align: top;\n",
       "    }\n",
       "\n",
       "    .dataframe thead th {\n",
       "        text-align: right;\n",
       "    }\n",
       "</style>\n",
       "<table border=\"1\" class=\"dataframe\">\n",
       "  <thead>\n",
       "    <tr style=\"text-align: right;\">\n",
       "      <th></th>\n",
       "      <th>TV</th>\n",
       "      <th>radio</th>\n",
       "      <th>newspaper</th>\n",
       "      <th>sales</th>\n",
       "    </tr>\n",
       "  </thead>\n",
       "  <tbody>\n",
       "    <tr>\n",
       "      <th>count</th>\n",
       "      <td>200.000000</td>\n",
       "      <td>200.000000</td>\n",
       "      <td>200.000000</td>\n",
       "      <td>200.000000</td>\n",
       "    </tr>\n",
       "    <tr>\n",
       "      <th>mean</th>\n",
       "      <td>147.042500</td>\n",
       "      <td>23.264000</td>\n",
       "      <td>30.554000</td>\n",
       "      <td>14.022500</td>\n",
       "    </tr>\n",
       "    <tr>\n",
       "      <th>std</th>\n",
       "      <td>85.854236</td>\n",
       "      <td>14.846809</td>\n",
       "      <td>21.778621</td>\n",
       "      <td>5.217457</td>\n",
       "    </tr>\n",
       "    <tr>\n",
       "      <th>min</th>\n",
       "      <td>0.700000</td>\n",
       "      <td>0.000000</td>\n",
       "      <td>0.300000</td>\n",
       "      <td>1.600000</td>\n",
       "    </tr>\n",
       "    <tr>\n",
       "      <th>25%</th>\n",
       "      <td>74.375000</td>\n",
       "      <td>9.975000</td>\n",
       "      <td>12.750000</td>\n",
       "      <td>10.375000</td>\n",
       "    </tr>\n",
       "    <tr>\n",
       "      <th>50%</th>\n",
       "      <td>149.750000</td>\n",
       "      <td>22.900000</td>\n",
       "      <td>25.750000</td>\n",
       "      <td>12.900000</td>\n",
       "    </tr>\n",
       "    <tr>\n",
       "      <th>75%</th>\n",
       "      <td>218.825000</td>\n",
       "      <td>36.525000</td>\n",
       "      <td>45.100000</td>\n",
       "      <td>17.400000</td>\n",
       "    </tr>\n",
       "    <tr>\n",
       "      <th>max</th>\n",
       "      <td>296.400000</td>\n",
       "      <td>49.600000</td>\n",
       "      <td>114.000000</td>\n",
       "      <td>27.000000</td>\n",
       "    </tr>\n",
       "  </tbody>\n",
       "</table>\n",
       "</div>"
      ]
     },
     "execution_count": 7,
     "metadata": {},
     "output_type": "execute_result"
    }
   ],
   "execution_count": 7
  },
  {
   "metadata": {
    "ExecuteTime": {
     "end_time": "2024-07-25T13:26:35.053242Z",
     "start_time": "2024-07-25T13:26:35.049213Z"
    }
   },
   "cell_type": "code",
   "source": "data.isnull().sum()",
   "id": "35cc69b9979dc45",
   "outputs": [
    {
     "data": {
      "text/plain": [
       "TV           0\n",
       "radio        0\n",
       "newspaper    0\n",
       "sales        0\n",
       "dtype: int64"
      ]
     },
     "execution_count": 8,
     "metadata": {},
     "output_type": "execute_result"
    }
   ],
   "execution_count": 8
  },
  {
   "metadata": {
    "ExecuteTime": {
     "end_time": "2024-07-25T13:26:35.064674Z",
     "start_time": "2024-07-25T13:26:35.054333Z"
    }
   },
   "cell_type": "code",
   "source": "data.info()",
   "id": "9caa49a2eb240aff",
   "outputs": [
    {
     "name": "stdout",
     "output_type": "stream",
     "text": [
      "<class 'pandas.core.frame.DataFrame'>\n",
      "RangeIndex: 200 entries, 0 to 199\n",
      "Data columns (total 4 columns):\n",
      " #   Column     Non-Null Count  Dtype  \n",
      "---  ------     --------------  -----  \n",
      " 0   TV         200 non-null    float64\n",
      " 1   radio      200 non-null    float64\n",
      " 2   newspaper  200 non-null    float64\n",
      " 3   sales      200 non-null    float64\n",
      "dtypes: float64(4)\n",
      "memory usage: 6.4 KB\n"
     ]
    }
   ],
   "execution_count": 9
  },
  {
   "metadata": {
    "ExecuteTime": {
     "end_time": "2024-07-25T13:26:36.168231Z",
     "start_time": "2024-07-25T13:26:35.065533Z"
    }
   },
   "cell_type": "code",
   "source": [
    "indp_vars = [\"TV\", \"radio\", \"newspaper\"]\n",
    "ax = sns.pairplot(data=data, vars=indp_vars)\n",
    "plt.rcParams[\"figure.figsize\"] = (5,4)\n",
    "plt.show()"
   ],
   "id": "81dad933e7d822a0",
   "outputs": [
    {
     "data": {
      "text/plain": [
       "<Figure size 750x750 with 12 Axes>"
      ],
      "image/png": "[encoded data removed]"
     },
     "metadata": {},
     "output_type": "display_data"
    }
   ],
   "execution_count": 10
  },
  {
   "metadata": {
    "ExecuteTime": {
     "end_time": "2024-07-25T13:26:36.293176Z",
     "start_time": "2024-07-25T13:26:36.169127Z"
    }
   },
   "cell_type": "code",
   "source": [
    "sns.heatmap(data.corr(), annot=True)\n",
    "plt.rcParams[\"figure.figsize\"] = (9,6)\n",
    "plt.show()"
   ],
   "id": "55bd2478d16a8e64",
   "outputs": [
    {
     "data": {
      "text/plain": [
       "<Figure size 500x400 with 2 Axes>"
      ],
      "image/png": "[encoded data removed]"
     },
     "metadata": {},
     "output_type": "display_data"
    }
   ],
   "execution_count": 11
  },
  {
   "metadata": {
    "ExecuteTime": {
     "end_time": "2024-07-25T13:26:36.298352Z",
     "start_time": "2024-07-25T13:26:36.294424Z"
    }
   },
   "cell_type": "code",
   "source": [
    "target = 'sales'\n",
    "\n",
    "data_norm = DataManipulation.z_score_normalization(data)\n",
    "\n",
    "X = data_norm.drop([target], axis=1)\n",
    "y = data_norm[target]"
   ],
   "id": "a18bb36e038e0290",
   "outputs": [],
   "execution_count": 12
  },
  {
   "metadata": {
    "ExecuteTime": {
     "end_time": "2024-07-25T13:26:36.306886Z",
     "start_time": "2024-07-25T13:26:36.299499Z"
    }
   },
   "cell_type": "code",
   "source": [
    "k, TEST_SIZE, SEED = 5, 0.3, 42\n",
    "\n",
    "X_train, X_test, y_train, y_test = model_selection.train_test_split(X, y, test_size=TEST_SIZE, random_state=SEED)\n",
    "\n",
    "folds = DataManipulation.kfold(X_train, y_train, k)"
   ],
   "id": "3db3f698a6a90489",
   "outputs": [],
   "execution_count": 13
  },
  {
   "metadata": {
    "ExecuteTime": {
     "end_time": "2024-07-25T13:26:36.310793Z",
     "start_time": "2024-07-25T13:26:36.308053Z"
    }
   },
   "cell_type": "code",
   "source": [
    "def predict(W, X, b) -> pd.Series:\n",
    "    return np.dot(X, W.T) + b if not np.any(np.isnan(W)) else np.full((X.shape[0], 1), float('inf'))"
   ],
   "id": "6f4b434e9dc1bd51",
   "outputs": [],
   "execution_count": 14
  },
  {
   "metadata": {
    "ExecuteTime": {
     "end_time": "2024-07-25T13:26:36.314800Z",
     "start_time": "2024-07-25T13:26:36.312040Z"
    }
   },
   "cell_type": "code",
   "source": [
    "def calc_mse(y_actual, y_hat, n):\n",
    "    return (1 / 2*n) * np.sum(((y_actual - y_hat)**2))"
   ],
   "id": "aeb5dbe89c7c67e6",
   "outputs": [],
   "execution_count": 15
  },
  {
   "metadata": {
    "ExecuteTime": {
     "end_time": "2024-07-25T13:26:36.318409Z",
     "start_time": "2024-07-25T13:26:36.315803Z"
    }
   },
   "cell_type": "code",
   "source": [
    "def calc_gradient(W, X, b, y, n):\n",
    "    y_hat = predict(W, X, b)\n",
    "    error = y_hat.flatten() - y\n",
    "    \n",
    "    dy_dW = (1 / n) * np.dot(X.T, error)\n",
    "    dy_db = (1 / n) * np.sum(error)\n",
    "    \n",
    "    return dy_db, dy_dW"
   ],
   "id": "14678e0181d9a0f1",
   "outputs": [],
   "execution_count": 16
  },
  {
   "metadata": {
    "ExecuteTime": {
     "end_time": "2024-07-25T13:26:36.322528Z",
     "start_time": "2024-07-25T13:26:36.319523Z"
    }
   },
   "cell_type": "code",
   "source": [
    "def gd(W, X, b, y, n, iterations, alpha):\n",
    "    \n",
    "    error_hist = []\n",
    "    \n",
    "    for i in range(iterations):\n",
    "        dy_db, dy_dW = calc_gradient(W, X, b, y, n)\n",
    "        \n",
    "        b -= alpha * dy_db\n",
    "        W -= alpha * dy_dW\n",
    "        \n",
    "        error_hist.append(calc_mse(y, predict(W, X, b).flatten(), X.shape[0]))\n",
    "    \n",
    "    return W, b, error_hist"
   ],
   "id": "b1f39ac8a4753eff",
   "outputs": [],
   "execution_count": 17
  },
  {
   "metadata": {
    "ExecuteTime": {
     "end_time": "2024-07-25T13:26:37.713419Z",
     "start_time": "2024-07-25T13:26:36.323810Z"
    }
   },
   "cell_type": "code",
   "source": [
    "initial_W, initial_b, iterations = np.zeros((1,X_train.shape[1])), 0, 1000\n",
    "alphas = [0.1, 0.3, 0.01, 0.03, 0.001, 0.003, 0.0001, 0.0003, 0.00001, 0.00003]\n",
    "\n",
    "min_val_error, best_alpha, best_W, best_b, best_err_hist = float('inf'), None, None, None, None\n",
    "\n",
    "for alpha in alphas:\n",
    "    for train_data, val_data in folds:\n",
    "        X_train_curr = np.delete(train_data, -1, axis=1)\n",
    "        y_train_curr = train_data[:, -1]\n",
    "    \n",
    "        X_val_curr = val_data.drop([target], axis=1)\n",
    "        y_val_curr = val_data[target]    \n",
    "        \n",
    "        \n",
    "        n, m = X_train_curr.shape\n",
    "        \n",
    "        curr_W, curr_b, curr_error_hist = gd(initial_W, X_train_curr, initial_b, y_train_curr, n, iterations, alpha)\n",
    "        \n",
    "        val_error = calc_mse(y_val_curr, predict(curr_W, X_val_curr, curr_b).flatten(), X_val_curr.shape[0])\n",
    "        # plt.plot([x for x in range(iterations)], curr_error_hist)\n",
    "        # plt.show()\n",
    "        if val_error < min_val_error and not np.any(np.isnan(curr_W)):\n",
    "            min_val_error = val_error \n",
    "            best_alpha = alpha\n",
    "            best_W = curr_W\n",
    "            best_b = curr_b\n",
    "            best_err_hist = curr_error_hist\n",
    "            \n",
    "print(best_alpha, min_val_error)\n",
    "print(best_W)\n",
    "print(best_b)\n",
    "    "
   ],
   "id": "6e0005387204f885",
   "outputs": [
    {
     "name": "stdout",
     "output_type": "stream",
     "text": [
      "3e-05 26.766671352061273\n",
      "[[0.72017382 0.57031083 0.029108  ]]\n",
      "0.00012115690931734774\n"
     ]
    }
   ],
   "execution_count": 18
  },
  {
   "metadata": {
    "ExecuteTime": {
     "end_time": "2024-07-25T13:26:37.808464Z",
     "start_time": "2024-07-25T13:26:37.714277Z"
    }
   },
   "cell_type": "code",
   "source": [
    "plt.plot([x for x in range(iterations)], best_err_hist)\n",
    "plt.show()"
   ],
   "id": "50eea0a400b00bec",
   "outputs": [
    {
     "data": {
      "text/plain": [
       "<Figure size 900x600 with 1 Axes>"
      ],
      "image/png": "[encoded data removed]"
     },
     "metadata": {},
     "output_type": "display_data"
    }
   ],
   "execution_count": 19
  },
  {
   "metadata": {
    "ExecuteTime": {
     "end_time": "2024-07-25T13:26:37.816747Z",
     "start_time": "2024-07-25T13:26:37.809510Z"
    }
   },
   "cell_type": "code",
   "source": [
    "sgdr = linear_model.SGDRegressor(max_iter=100000)\n",
    "sgdr.fit(X_train, y_train)"
   ],
   "id": "4ff8698114816773",
   "outputs": [
    {
     "data": {
      "text/plain": [
       "SGDRegressor(max_iter=100000)"
      ],
      "text/html": [
       "<style>#sk-container-id-1 {\n",
       "  /* Definition of color scheme common for light and dark mode */\n",
       "  --sklearn-color-text: black;\n",
       "  --sklearn-color-line: gray;\n",
       "  /* Definition of color scheme for unfitted estimators */\n",
       "  --sklearn-color-unfitted-level-0: #fff5e6;\n",
       "  --sklearn-color-unfitted-level-1: #f6e4d2;\n",
       "  --sklearn-color-unfitted-level-2: #ffe0b3;\n",
       "  --sklearn-color-unfitted-level-3: chocolate;\n",
       "  /* Definition of color scheme for fitted estimators */\n",
       "  --sklearn-color-fitted-level-0: #f0f8ff;\n",
       "  --sklearn-color-fitted-level-1: #d4ebff;\n",
       "  --sklearn-color-fitted-level-2: #b3dbfd;\n",
       "  --sklearn-color-fitted-level-3: cornflowerblue;\n",
       "\n",
       "  /* Specific color for light theme */\n",
       "  --sklearn-color-text-on-default-background: var(--sg-text-color, var(--theme-code-foreground, var(--jp-content-font-color1, black)));\n",
       "  --sklearn-color-background: var(--sg-background-color, var(--theme-background, var(--jp-layout-color0, white)));\n",
       "  --sklearn-color-border-box: var(--sg-text-color, var(--theme-code-foreground, var(--jp-content-font-color1, black)));\n",
       "  --sklearn-color-icon: #696969;\n",
       "\n",
       "  @media (prefers-color-scheme: dark) {\n",
       "    /* Redefinition of color scheme for dark theme */\n",
       "    --sklearn-color-text-on-default-background: var(--sg-text-color, var(--theme-code-foreground, var(--jp-content-font-color1, white)));\n",
       "    --sklearn-color-background: var(--sg-background-color, var(--theme-background, var(--jp-layout-color0, #111)));\n",
       "    --sklearn-color-border-box: var(--sg-text-color, var(--theme-code-foreground, var(--jp-content-font-color1, white)));\n",
       "    --sklearn-color-icon: #878787;\n",
       "  }\n",
       "}\n",
       "\n",
       "#sk-container-id-1 {\n",
       "  color: var(--sklearn-color-text);\n",
       "}\n",
       "\n",
       "#sk-container-id-1 pre {\n",
       "  padding: 0;\n",
       "}\n",
       "\n",
       "#sk-container-id-1 input.sk-hidden--visually {\n",
       "  border: 0;\n",
       "  clip: rect(1px 1px 1px 1px);\n",
       "  clip: rect(1px, 1px, 1px, 1px);\n",
       "  height: 1px;\n",
       "  margin: -1px;\n",
       "  overflow: hidden;\n",
       "  padding: 0;\n",
       "  position: absolute;\n",
       "  width: 1px;\n",
       "}\n",
       "\n",
       "#sk-container-id-1 div.sk-dashed-wrapped {\n",
       "  border: 1px dashed var(--sklearn-color-line);\n",
       "  margin: 0 0.4em 0.5em 0.4em;\n",
       "  box-sizing: border-box;\n",
       "  padding-bottom: 0.4em;\n",
       "  background-color: var(--sklearn-color-background);\n",
       "}\n",
       "\n",
       "#sk-container-id-1 div.sk-container {\n",
       "  /* jupyter's `normalize.less` sets `[hidden] { display: none; }`\n",
       "     but bootstrap.min.css set `[hidden] { display: none !important; }`\n",
       "     so we also need the `!important` here to be able to override the\n",
       "     default hidden behavior on the sphinx rendered scikit-learn.org.\n",
       "     See: https://github.com/scikit-learn/scikit-learn/issues/21755 */\n",
       "  display: inline-block !important;\n",
       "  position: relative;\n",
       "}\n",
       "\n",
       "#sk-container-id-1 div.sk-text-repr-fallback {\n",
       "  display: none;\n",
       "}\n",
       "\n",
       "div.sk-parallel-item,\n",
       "div.sk-serial,\n",
       "div.sk-item {\n",
       "  /* draw centered vertical line to link estimators */\n",
       "  background-image: linear-gradient(var(--sklearn-color-text-on-default-background), var(--sklearn-color-text-on-default-background));\n",
       "  background-size: 2px 100%;\n",
       "  background-repeat: no-repeat;\n",
       "  background-position: center center;\n",
       "}\n",
       "\n",
       "/* Parallel-specific style estimator block */\n",
       "\n",
       "#sk-container-id-1 div.sk-parallel-item::after {\n",
       "  content: \"\";\n",
       "  width: 100%;\n",
       "  border-bottom: 2px solid var(--sklearn-color-text-on-default-background);\n",
       "  flex-grow: 1;\n",
       "}\n",
       "\n",
       "#sk-container-id-1 div.sk-parallel {\n",
       "  display: flex;\n",
       "  align-items: stretch;\n",
       "  justify-content: center;\n",
       "  background-color: var(--sklearn-color-background);\n",
       "  position: relative;\n",
       "}\n",
       "\n",
       "#sk-container-id-1 div.sk-parallel-item {\n",
       "  display: flex;\n",
       "  flex-direction: column;\n",
       "}\n",
       "\n",
       "#sk-container-id-1 div.sk-parallel-item:first-child::after {\n",
       "  align-self: flex-end;\n",
       "  width: 50%;\n",
       "}\n",
       "\n",
       "#sk-container-id-1 div.sk-parallel-item:last-child::after {\n",
       "  align-self: flex-start;\n",
       "  width: 50%;\n",
       "}\n",
       "\n",
       "#sk-container-id-1 div.sk-parallel-item:only-child::after {\n",
       "  width: 0;\n",
       "}\n",
       "\n",
       "/* Serial-specific style estimator block */\n",
       "\n",
       "#sk-container-id-1 div.sk-serial {\n",
       "  display: flex;\n",
       "  flex-direction: column;\n",
       "  align-items: center;\n",
       "  background-color: var(--sklearn-color-background);\n",
       "  padding-right: 1em;\n",
       "  padding-left: 1em;\n",
       "}\n",
       "\n",
       "\n",
       "/* Toggleable style: style used for estimator/Pipeline/ColumnTransformer box that is\n",
       "clickable and can be expanded/collapsed.\n",
       "- Pipeline and ColumnTransformer use this feature and define the default style\n",
       "- Estimators will overwrite some part of the style using the `sk-estimator` class\n",
       "*/\n",
       "\n",
       "/* Pipeline and ColumnTransformer style (default) */\n",
       "\n",
       "#sk-container-id-1 div.sk-toggleable {\n",
       "  /* Default theme specific background. It is overwritten whether we have a\n",
       "  specific estimator or a Pipeline/ColumnTransformer */\n",
       "  background-color: var(--sklearn-color-background);\n",
       "}\n",
       "\n",
       "/* Toggleable label */\n",
       "#sk-container-id-1 label.sk-toggleable__label {\n",
       "  cursor: pointer;\n",
       "  display: block;\n",
       "  width: 100%;\n",
       "  margin-bottom: 0;\n",
       "  padding: 0.5em;\n",
       "  box-sizing: border-box;\n",
       "  text-align: center;\n",
       "}\n",
       "\n",
       "#sk-container-id-1 label.sk-toggleable__label-arrow:before {\n",
       "  /* Arrow on the left of the label */\n",
       "  content: \"▸\";\n",
       "  float: left;\n",
       "  margin-right: 0.25em;\n",
       "  color: var(--sklearn-color-icon);\n",
       "}\n",
       "\n",
       "#sk-container-id-1 label.sk-toggleable__label-arrow:hover:before {\n",
       "  color: var(--sklearn-color-text);\n",
       "}\n",
       "\n",
       "/* Toggleable content - dropdown */\n",
       "\n",
       "#sk-container-id-1 div.sk-toggleable__content {\n",
       "  max-height: 0;\n",
       "  max-width: 0;\n",
       "  overflow: hidden;\n",
       "  text-align: left;\n",
       "  /* unfitted */\n",
       "  background-color: var(--sklearn-color-unfitted-level-0);\n",
       "}\n",
       "\n",
       "#sk-container-id-1 div.sk-toggleable__content.fitted {\n",
       "  /* fitted */\n",
       "  background-color: var(--sklearn-color-fitted-level-0);\n",
       "}\n",
       "\n",
       "#sk-container-id-1 div.sk-toggleable__content pre {\n",
       "  margin: 0.2em;\n",
       "  border-radius: 0.25em;\n",
       "  color: var(--sklearn-color-text);\n",
       "  /* unfitted */\n",
       "  background-color: var(--sklearn-color-unfitted-level-0);\n",
       "}\n",
       "\n",
       "#sk-container-id-1 div.sk-toggleable__content.fitted pre {\n",
       "  /* unfitted */\n",
       "  background-color: var(--sklearn-color-fitted-level-0);\n",
       "}\n",
       "\n",
       "#sk-container-id-1 input.sk-toggleable__control:checked~div.sk-toggleable__content {\n",
       "  /* Expand drop-down */\n",
       "  max-height: 200px;\n",
       "  max-width: 100%;\n",
       "  overflow: auto;\n",
       "}\n",
       "\n",
       "#sk-container-id-1 input.sk-toggleable__control:checked~label.sk-toggleable__label-arrow:before {\n",
       "  content: \"▾\";\n",
       "}\n",
       "\n",
       "/* Pipeline/ColumnTransformer-specific style */\n",
       "\n",
       "#sk-container-id-1 div.sk-label input.sk-toggleable__control:checked~label.sk-toggleable__label {\n",
       "  color: var(--sklearn-color-text);\n",
       "  background-color: var(--sklearn-color-unfitted-level-2);\n",
       "}\n",
       "\n",
       "#sk-container-id-1 div.sk-label.fitted input.sk-toggleable__control:checked~label.sk-toggleable__label {\n",
       "  background-color: var(--sklearn-color-fitted-level-2);\n",
       "}\n",
       "\n",
       "/* Estimator-specific style */\n",
       "\n",
       "/* Colorize estimator box */\n",
       "#sk-container-id-1 div.sk-estimator input.sk-toggleable__control:checked~label.sk-toggleable__label {\n",
       "  /* unfitted */\n",
       "  background-color: var(--sklearn-color-unfitted-level-2);\n",
       "}\n",
       "\n",
       "#sk-container-id-1 div.sk-estimator.fitted input.sk-toggleable__control:checked~label.sk-toggleable__label {\n",
       "  /* fitted */\n",
       "  background-color: var(--sklearn-color-fitted-level-2);\n",
       "}\n",
       "\n",
       "#sk-container-id-1 div.sk-label label.sk-toggleable__label,\n",
       "#sk-container-id-1 div.sk-label label {\n",
       "  /* The background is the default theme color */\n",
       "  color: var(--sklearn-color-text-on-default-background);\n",
       "}\n",
       "\n",
       "/* On hover, darken the color of the background */\n",
       "#sk-container-id-1 div.sk-label:hover label.sk-toggleable__label {\n",
       "  color: var(--sklearn-color-text);\n",
       "  background-color: var(--sklearn-color-unfitted-level-2);\n",
       "}\n",
       "\n",
       "/* Label box, darken color on hover, fitted */\n",
       "#sk-container-id-1 div.sk-label.fitted:hover label.sk-toggleable__label.fitted {\n",
       "  color: var(--sklearn-color-text);\n",
       "  background-color: var(--sklearn-color-fitted-level-2);\n",
       "}\n",
       "\n",
       "/* Estimator label */\n",
       "\n",
       "#sk-container-id-1 div.sk-label label {\n",
       "  font-family: monospace;\n",
       "  font-weight: bold;\n",
       "  display: inline-block;\n",
       "  line-height: 1.2em;\n",
       "}\n",
       "\n",
       "#sk-container-id-1 div.sk-label-container {\n",
       "  text-align: center;\n",
       "}\n",
       "\n",
       "/* Estimator-specific */\n",
       "#sk-container-id-1 div.sk-estimator {\n",
       "  font-family: monospace;\n",
       "  border: 1px dotted var(--sklearn-color-border-box);\n",
       "  border-radius: 0.25em;\n",
       "  box-sizing: border-box;\n",
       "  margin-bottom: 0.5em;\n",
       "  /* unfitted */\n",
       "  background-color: var(--sklearn-color-unfitted-level-0);\n",
       "}\n",
       "\n",
       "#sk-container-id-1 div.sk-estimator.fitted {\n",
       "  /* fitted */\n",
       "  background-color: var(--sklearn-color-fitted-level-0);\n",
       "}\n",
       "\n",
       "/* on hover */\n",
       "#sk-container-id-1 div.sk-estimator:hover {\n",
       "  /* unfitted */\n",
       "  background-color: var(--sklearn-color-unfitted-level-2);\n",
       "}\n",
       "\n",
       "#sk-container-id-1 div.sk-estimator.fitted:hover {\n",
       "  /* fitted */\n",
       "  background-color: var(--sklearn-color-fitted-level-2);\n",
       "}\n",
       "\n",
       "/* Specification for estimator info (e.g. \"i\" and \"?\") */\n",
       "\n",
       "/* Common style for \"i\" and \"?\" */\n",
       "\n",
       ".sk-estimator-doc-link,\n",
       "a:link.sk-estimator-doc-link,\n",
       "a:visited.sk-estimator-doc-link {\n",
       "  float: right;\n",
       "  font-size: smaller;\n",
       "  line-height: 1em;\n",
       "  font-family: monospace;\n",
       "  background-color: var(--sklearn-color-background);\n",
       "  border-radius: 1em;\n",
       "  height: 1em;\n",
       "  width: 1em;\n",
       "  text-decoration: none !important;\n",
       "  margin-left: 1ex;\n",
       "  /* unfitted */\n",
       "  border: var(--sklearn-color-unfitted-level-1) 1pt solid;\n",
       "  color: var(--sklearn-color-unfitted-level-1);\n",
       "}\n",
       "\n",
       ".sk-estimator-doc-link.fitted,\n",
       "a:link.sk-estimator-doc-link.fitted,\n",
       "a:visited.sk-estimator-doc-link.fitted {\n",
       "  /* fitted */\n",
       "  border: var(--sklearn-color-fitted-level-1) 1pt solid;\n",
       "  color: var(--sklearn-color-fitted-level-1);\n",
       "}\n",
       "\n",
       "/* On hover */\n",
       "div.sk-estimator:hover .sk-estimator-doc-link:hover,\n",
       ".sk-estimator-doc-link:hover,\n",
       "div.sk-label-container:hover .sk-estimator-doc-link:hover,\n",
       ".sk-estimator-doc-link:hover {\n",
       "  /* unfitted */\n",
       "  background-color: var(--sklearn-color-unfitted-level-3);\n",
       "  color: var(--sklearn-color-background);\n",
       "  text-decoration: none;\n",
       "}\n",
       "\n",
       "div.sk-estimator.fitted:hover .sk-estimator-doc-link.fitted:hover,\n",
       ".sk-estimator-doc-link.fitted:hover,\n",
       "div.sk-label-container:hover .sk-estimator-doc-link.fitted:hover,\n",
       ".sk-estimator-doc-link.fitted:hover {\n",
       "  /* fitted */\n",
       "  background-color: var(--sklearn-color-fitted-level-3);\n",
       "  color: var(--sklearn-color-background);\n",
       "  text-decoration: none;\n",
       "}\n",
       "\n",
       "/* Span, style for the box shown on hovering the info icon */\n",
       ".sk-estimator-doc-link span {\n",
       "  display: none;\n",
       "  z-index: 9999;\n",
       "  position: relative;\n",
       "  font-weight: normal;\n",
       "  right: .2ex;\n",
       "  padding: .5ex;\n",
       "  margin: .5ex;\n",
       "  width: min-content;\n",
       "  min-width: 20ex;\n",
       "  max-width: 50ex;\n",
       "  color: var(--sklearn-color-text);\n",
       "  box-shadow: 2pt 2pt 4pt #999;\n",
       "  /* unfitted */\n",
       "  background: var(--sklearn-color-unfitted-level-0);\n",
       "  border: .5pt solid var(--sklearn-color-unfitted-level-3);\n",
       "}\n",
       "\n",
       ".sk-estimator-doc-link.fitted span {\n",
       "  /* fitted */\n",
       "  background: var(--sklearn-color-fitted-level-0);\n",
       "  border: var(--sklearn-color-fitted-level-3);\n",
       "}\n",
       "\n",
       ".sk-estimator-doc-link:hover span {\n",
       "  display: block;\n",
       "}\n",
       "\n",
       "/* \"?\"-specific style due to the `<a>` HTML tag */\n",
       "\n",
       "#sk-container-id-1 a.estimator_doc_link {\n",
       "  float: right;\n",
       "  font-size: 1rem;\n",
       "  line-height: 1em;\n",
       "  font-family: monospace;\n",
       "  background-color: var(--sklearn-color-background);\n",
       "  border-radius: 1rem;\n",
       "  height: 1rem;\n",
       "  width: 1rem;\n",
       "  text-decoration: none;\n",
       "  /* unfitted */\n",
       "  color: var(--sklearn-color-unfitted-level-1);\n",
       "  border: var(--sklearn-color-unfitted-level-1) 1pt solid;\n",
       "}\n",
       "\n",
       "#sk-container-id-1 a.estimator_doc_link.fitted {\n",
       "  /* fitted */\n",
       "  border: var(--sklearn-color-fitted-level-1) 1pt solid;\n",
       "  color: var(--sklearn-color-fitted-level-1);\n",
       "}\n",
       "\n",
       "/* On hover */\n",
       "#sk-container-id-1 a.estimator_doc_link:hover {\n",
       "  /* unfitted */\n",
       "  background-color: var(--sklearn-color-unfitted-level-3);\n",
       "  color: var(--sklearn-color-background);\n",
       "  text-decoration: none;\n",
       "}\n",
       "\n",
       "#sk-container-id-1 a.estimator_doc_link.fitted:hover {\n",
       "  /* fitted */\n",
       "  background-color: var(--sklearn-color-fitted-level-3);\n",
       "}\n",
       "</style><div id=\"sk-container-id-1\" class=\"sk-top-container\"><div class=\"sk-text-repr-fallback\"><pre>SGDRegressor(max_iter=100000)</pre><b>In a Jupyter environment, please rerun this cell to show the HTML representation or trust the notebook. <br />On GitHub, the HTML representation is unable to render, please try loading this page with nbviewer.org.</b></div><div class=\"sk-container\" hidden><div class=\"sk-item\"><div class=\"sk-estimator fitted sk-toggleable\"><input class=\"sk-toggleable__control sk-hidden--visually\" id=\"sk-estimator-id-1\" type=\"checkbox\" checked><label for=\"sk-estimator-id-1\" class=\"sk-toggleable__label fitted sk-toggleable__label-arrow fitted\">&nbsp;&nbsp;SGDRegressor<a class=\"sk-estimator-doc-link fitted\" rel=\"noreferrer\" target=\"_blank\" href=\"https://scikit-learn.org/1.5/modules/generated/sklearn.linear_model.SGDRegressor.html\">?<span>Documentation for SGDRegressor</span></a><span class=\"sk-estimator-doc-link fitted\">i<span>Fitted</span></span></label><div class=\"sk-toggleable__content fitted\"><pre>SGDRegressor(max_iter=100000)</pre></div> </div></div></div></div>"
      ]
     },
     "execution_count": 20,
     "metadata": {},
     "output_type": "execute_result"
    }
   ],
   "execution_count": 20
  },
  {
   "metadata": {
    "ExecuteTime": {
     "end_time": "2024-07-25T13:26:37.824314Z",
     "start_time": "2024-07-25T13:26:37.817848Z"
    }
   },
   "cell_type": "code",
   "source": [
    "mse_sgdr = metrics.mean_squared_error(y_test, sgdr.predict(X_test))\n",
    "r_2_sgdr = metrics.r2_score(y_test, sgdr.predict(X_test))\n",
    "\n",
    "mse_custom = metrics.mean_squared_error(y_test, predict(best_W, X_test, best_b))\n",
    "r_2_custom = metrics.r2_score(y_test, predict(best_W, X_test, best_b))\n",
    "\n",
    "print(\"<----- Sklearn SDG regression Benchmark ----->\")\n",
    "print(f\"MSE: {mse_sgdr*100:.2f}%\")\n",
    "print(f\"R_2: {r_2_sgdr*100:.2f}%\")\n",
    "print(\"<----- Custom SDG regression Benchmark ----->\")\n",
    "print(f\"MSE: {mse_custom*100:.2f}%\")\n",
    "print(f\"R_2: {r_2_custom*100:.2f}%\")"
   ],
   "id": "64de460c5e808da7",
   "outputs": [
    {
     "name": "stdout",
     "output_type": "stream",
     "text": [
      "<----- Sklearn SDG regression Benchmark ----->\n",
      "MSE: 14.41%\n",
      "R_2: 85.63%\n",
      "<----- Custom SDG regression Benchmark ----->\n",
      "MSE: 14.12%\n",
      "R_2: 85.92%\n"
     ]
    }
   ],
   "execution_count": 21
  },
  {
   "metadata": {
    "ExecuteTime": {
     "end_time": "2024-07-25T13:26:37.828153Z",
     "start_time": "2024-07-25T13:26:37.825415Z"
    }
   },
   "cell_type": "code",
   "source": [
    "def calc_gradient_l2(W, X, b, y, n, lambda_):\n",
    "    y_hat = predict(W, X, b)\n",
    "    error = y_hat.flatten() - y\n",
    "    \n",
    "    dy_dW = (1 / n) * np.dot(X.T, error) + (lambda_ * W)\n",
    "    dy_db = (1 / n) * np.sum(error)\n",
    "    \n",
    "    return dy_db, dy_dW"
   ],
   "id": "4bad37b70be7bc00",
   "outputs": [],
   "execution_count": 22
  },
  {
   "metadata": {
    "ExecuteTime": {
     "end_time": "2024-07-25T13:26:37.832090Z",
     "start_time": "2024-07-25T13:26:37.829081Z"
    }
   },
   "cell_type": "code",
   "source": [
    "def gd_l2(W, X, b, y, n, iterations, alpha, lambda_):\n",
    "    \n",
    "    error_hist = []\n",
    "    \n",
    "    for i in range(iterations):\n",
    "        dy_db, dy_dW = calc_gradient_l2(W, X, b, y, n, lambda_)\n",
    "        \n",
    "        b -= alpha * dy_db\n",
    "        W -= alpha * dy_dW\n",
    "        \n",
    "        error_hist.append(calc_mse(y, predict(W, X, b).flatten(), X.shape[0]))\n",
    "    \n",
    "    return W, b, error_hist"
   ],
   "id": "e018574e18092163",
   "outputs": [],
   "execution_count": 23
  },
  {
   "metadata": {
    "ExecuteTime": {
     "end_time": "2024-07-25T13:26:40.890842Z",
     "start_time": "2024-07-25T13:26:37.833006Z"
    }
   },
   "cell_type": "code",
   "source": [
    "initial_W, initial_b, iterations = np.zeros((1,X_train.shape[1])), 0, 10000\n",
    "lambdas = [0.1, 0.5, 1, 10, 100, 1000]\n",
    "lambda_ = 0.1\n",
    "\n",
    "final_W_l2, final_b_l2, error_hist_l2 = gd_l2(initial_W, X_train, initial_b, y_train, iterations=iterations, alpha=0.01, n=X_train.shape[0], lambda_=lambda_)"
   ],
   "id": "a181b6772b96bd0f",
   "outputs": [],
   "execution_count": 24
  },
  {
   "metadata": {
    "ExecuteTime": {
     "end_time": "2024-07-25T13:26:40.895106Z",
     "start_time": "2024-07-25T13:26:40.892084Z"
    }
   },
   "cell_type": "code",
   "source": "final_W_l2",
   "id": "4d9b6afb712b49d2",
   "outputs": [
    {
     "data": {
      "text/plain": [
       "array([[0.6586191 , 0.51286125, 0.04516824]])"
      ]
     },
     "execution_count": 25,
     "metadata": {},
     "output_type": "execute_result"
    }
   ],
   "execution_count": 25
  },
  {
   "metadata": {
    "ExecuteTime": {
     "end_time": "2024-07-25T13:26:40.899611Z",
     "start_time": "2024-07-25T13:26:40.895992Z"
    }
   },
   "cell_type": "code",
   "source": [
    "mse_custom = metrics.mean_squared_error(y_test, predict(final_W_l2, X_test, final_b_l2))\n",
    "r_2_custom = metrics.r2_score(y_test, predict(final_W_l2, X_test, final_b_l2))\n",
    "\n",
    "print(\"<----- Custom SDG regression Benchmark ----->\")\n",
    "print(f\"MSE: {mse_custom*100:.2f}%\")\n",
    "print(f\"R_2: {r_2_custom*100:.2f}%\")"
   ],
   "id": "93d017dc4610979a",
   "outputs": [
    {
     "name": "stdout",
     "output_type": "stream",
     "text": [
      "<----- Custom SDG regression Benchmark ----->\n",
      "MSE: 14.81%\n",
      "R_2: 85.23%\n"
     ]
    }
   ],
   "execution_count": 26
  },
  {
   "metadata": {
    "ExecuteTime": {
     "end_time": "2024-07-25T13:26:40.903158Z",
     "start_time": "2024-07-25T13:26:40.900510Z"
    }
   },
   "cell_type": "code",
   "source": [
    "def calc_gradient_l1(W, X, b, y, n, lambda_):\n",
    "    y_hat = predict(W, X, b)\n",
    "    error = y_hat.flatten() - y\n",
    "    \n",
    "    dy_dW = (1 / n) * np.dot(X.T, error) + (lambda_ * W)\n",
    "    dy_db = (1 / n) * np.sum(error)\n",
    "    \n",
    "    return dy_db, dy_dW"
   ],
   "id": "fcdf653b86566606",
   "outputs": [],
   "execution_count": 27
  },
  {
   "metadata": {
    "ExecuteTime": {
     "end_time": "2024-07-25T13:26:40.907119Z",
     "start_time": "2024-07-25T13:26:40.904353Z"
    }
   },
   "cell_type": "code",
   "source": [
    "def gd_l1(W, X, b, y, n, iterations, alpha, lambda_):\n",
    "    \n",
    "    error_hist = []\n",
    "    \n",
    "    for i in range(iterations):\n",
    "        dy_db, dy_dW = calc_gradient_l1(W, X, b, y, n, lambda_)\n",
    "        \n",
    "        b -= alpha * dy_db\n",
    "        W -= alpha * dy_dW\n",
    "        \n",
    "        error_hist.append(calc_mse(y, predict(W, X, b).flatten(), X.shape[0]))\n",
    "    \n",
    "    return W, b, error_hist"
   ],
   "id": "a3a049a67db90b45",
   "outputs": [],
   "execution_count": 28
  },
  {
   "metadata": {
    "ExecuteTime": {
     "end_time": "2024-07-25T13:26:43.923273Z",
     "start_time": "2024-07-25T13:26:40.908345Z"
    }
   },
   "cell_type": "code",
   "source": [
    "initial_W, initial_b, iterations = np.zeros((1,X_train.shape[1])), 0, 10000\n",
    "lambda_ = 0.001\n",
    "\n",
    "final_W_l1, final_b_l1, error_hist_l1 = gd_l1(initial_W, X_train, initial_b, y_train, iterations=iterations, alpha=0.0005, n=X_train.shape[0], lambda_=lambda_)\n"
   ],
   "id": "9dd5bb96b7a51e70",
   "outputs": [],
   "execution_count": 29
  },
  {
   "metadata": {
    "ExecuteTime": {
     "end_time": "2024-07-25T13:26:43.928032Z",
     "start_time": "2024-07-25T13:26:43.924334Z"
    }
   },
   "cell_type": "code",
   "source": [
    "mse_custom = metrics.mean_squared_error(y_test, predict(final_W_l1, X_test, final_b_l1))\n",
    "r_2_custom = metrics.r2_score(y_test, predict(final_W_l1, X_test, final_b_l1))\n",
    "\n",
    "print(\"<----- Custom SDG regression Benchmark ----->\")\n",
    "print(f\"MSE: {mse_custom*100:.2f}%\")\n",
    "print(f\"R_2: {r_2_custom*100:.2f}%\")"
   ],
   "id": "a697cb69e3a23e6b",
   "outputs": [
    {
     "name": "stdout",
     "output_type": "stream",
     "text": [
      "<----- Custom SDG regression Benchmark ----->\n",
      "MSE: 14.12%\n",
      "R_2: 85.93%\n"
     ]
    }
   ],
   "execution_count": 30
  },
  {
   "metadata": {
    "ExecuteTime": {
     "end_time": "2024-07-25T13:26:43.932080Z",
     "start_time": "2024-07-25T13:26:43.929058Z"
    }
   },
   "cell_type": "code",
   "source": "final_W_l1",
   "id": "6582855fef4b5fcf",
   "outputs": [
    {
     "data": {
      "text/plain": [
       "array([[0.71866311, 0.55632604, 0.04041502]])"
      ]
     },
     "execution_count": 31,
     "metadata": {},
     "output_type": "execute_result"
    }
   ],
   "execution_count": 31
  },
  {
   "metadata": {},
   "cell_type": "markdown",
   "source": "## L2 Normalization - Lambda Tuning",
   "id": "70a2fa0f5c20a60b"
  },
  {
   "metadata": {
    "ExecuteTime": {
     "end_time": "2024-07-25T13:26:59.614100Z",
     "start_time": "2024-07-25T13:26:43.933256Z"
    }
   },
   "cell_type": "code",
   "source": [
    "initial_W, initial_b, iterations = np.zeros((1,X_train.shape[1])), 0, 1000\n",
    "lambdas = [0.001, 0.01, 0.1, 0.5, 1, 5, 10, 20, 50, 100, 1000]\n",
    "alphas = [0.1, 0.3, 0.01, 0.03, 0.001, 0.003, 0.0001, 0.0003, 0.00001, 0.00003]\n",
    "\n",
    "min_val_error, min_avg_val_error, best_lambda, best_alpha, best_W, best_b, best_err_hist = float('inf'), float('inf'), None, None, None, None, None\n",
    "\n",
    "for lambda_ in lambdas:\n",
    "    for alpha in alphas:\n",
    "    \n",
    "        avg_val_error_for_fold = 0\n",
    "        \n",
    "        for train_data, val_data in folds:\n",
    "            \n",
    "            X_train_curr = np.delete(train_data, -1, axis=1)\n",
    "            y_train_curr = train_data[:, -1]\n",
    "        \n",
    "            X_val_curr = val_data.drop([target], axis=1)\n",
    "            y_val_curr = val_data[target]    \n",
    "            \n",
    "            n, m = X_train_curr.shape\n",
    "            \n",
    "            curr_W, curr_b, curr_error_hist = gd_l2(initial_W, X_train_curr, initial_b, y_train_curr, n, iterations, alpha, lambda_)\n",
    "            \n",
    "            val_error = calc_mse(y_val_curr, predict(curr_W, X_val_curr, curr_b).flatten(), X_val_curr.shape[0])\n",
    "            avg_val_error_for_fold += val_error\n",
    "            # plt.plot([x for x in range(iterations)], curr_error_hist)\n",
    "            # plt.show()\n",
    "            if val_error < min_val_error and not np.any(np.isnan(curr_W)):\n",
    "                min_val_error = val_error \n",
    "                best_W = np.copy(curr_W)\n",
    "                best_b = np.copy(curr_b)\n",
    "                best_err_hist = curr_error_hist\n",
    "                \n",
    "        avg_val_error_for_fold /= len(folds)\n",
    "        \n",
    "        if avg_val_error_for_fold < min_avg_val_error:\n",
    "            min_avg_val_error = avg_val_error_for_fold\n",
    "            best_lambda = lambda_\n",
    "            best_alpha = alpha\n",
    "\n",
    "print(f\"Best lambda: {best_lambda}\")\n",
    "print(f\"Best Alpha: {best_alpha}\")\n",
    "print(f\"Best Average Validation Error: {min_avg_val_error}\")\n",
    "print(f\"Overall best error: {min_val_error}\")\n",
    "print(f\"Best weights: {best_W}\")"
   ],
   "id": "2f9780a6c4a492e",
   "outputs": [
    {
     "name": "stderr",
     "output_type": "stream",
     "text": [
      "/var/folders/dm/d4y_78317f561sw96qm7bgrw0000gn/T/ipykernel_53455/256457962.py:2: RuntimeWarning: overflow encountered in scalar multiply\n",
      "  return (1 / 2*n) * np.sum(((y_actual - y_hat)**2))\n",
      "/Users/alexc/opt/anaconda3/envs/ml/lib/python3.10/site-packages/numpy/_core/fromnumeric.py:86: RuntimeWarning: overflow encountered in reduce\n",
      "  return ufunc.reduce(obj, axis, dtype, out, **passkwargs)\n",
      "/var/folders/dm/d4y_78317f561sw96qm7bgrw0000gn/T/ipykernel_53455/256457962.py:2: RuntimeWarning: overflow encountered in square\n",
      "  return (1 / 2*n) * np.sum(((y_actual - y_hat)**2))\n",
      "/Users/alexc/opt/anaconda3/envs/ml/lib/python3.10/site-packages/numpy/_core/fromnumeric.py:86: RuntimeWarning: invalid value encountered in reduce\n",
      "  return ufunc.reduce(obj, axis, dtype, out, **passkwargs)\n"
     ]
    },
    {
     "name": "stdout",
     "output_type": "stream",
     "text": [
      "Best lambda: 0.001\n",
      "Best Alpha: 1e-05\n",
      "Best Average Validation Error: 35.73496922012178\n",
      "Overall best error: 26.817008927388464\n",
      "Best weights: [[0.71944767 0.56971072 0.02930211]]\n"
     ]
    }
   ],
   "execution_count": 32
  },
  {
   "metadata": {
    "ExecuteTime": {
     "end_time": "2024-07-25T13:26:59.619179Z",
     "start_time": "2024-07-25T13:26:59.615261Z"
    }
   },
   "cell_type": "code",
   "source": [
    "mse_custom = metrics.mean_squared_error(y_test, predict(best_W, X_test, best_b))\n",
    "r_2_custom = metrics.r2_score(y_test, predict(best_W, X_test, best_b))\n",
    "\n",
    "print(\"<----- Custom SDG regression Benchmark ----->\")\n",
    "print(f\"MSE: {mse_custom*100:.2f}%\")\n",
    "print(f\"R_2: {r_2_custom*100:.2f}%\")"
   ],
   "id": "9f5216aab986f70d",
   "outputs": [
    {
     "name": "stdout",
     "output_type": "stream",
     "text": [
      "<----- Custom SDG regression Benchmark ----->\n",
      "MSE: 14.13%\n",
      "R_2: 85.92%\n"
     ]
    }
   ],
   "execution_count": 33
  },
  {
   "metadata": {
    "ExecuteTime": {
     "end_time": "2024-07-25T13:37:29.853068Z",
     "start_time": "2024-07-25T13:37:24.076692Z"
    }
   },
   "cell_type": "code",
   "source": [
    "pipeline = Pipeline(steps=[\n",
    "    ('scaler', preprocessing.StandardScaler()),\n",
    "    ('sgd', linear_model.SGDRegressor(penalty=\"l2\"))\n",
    "])\n",
    "\n",
    "param_grid = {\n",
    "    'sgd__alpha': [0.001, 0.01, 0.1, 0.5, 1, 5, 10, 20, 50, 100, 1000],\n",
    "    'sgd__learning_rate': ['constant', 'optimal', 'invscaling', 'adaptive'],\n",
    "    'sgd__eta0':  [0.1, 0.3, 0.01, 0.03, 0.001, 0.003, 0.0001, 0.0003, 0.00001, 0.00003]  # Initial learning rate\n",
    "}\n",
    "\n",
    "grid_search = model_selection.GridSearchCV(pipeline, param_grid, cv=5, scoring='neg_mean_squared_error')\n",
    "grid_search.fit(X_train, y_train)\n",
    "\n",
    "# Print the best parameters and corresponding score\n",
    "print(f\"Best parameters: {grid_search.best_params_}\")\n",
    "print(f\"Best score: {grid_search.best_score_}\")"
   ],
   "id": "35ac9046eba91697",
   "outputs": [
    {
     "name": "stdout",
     "output_type": "stream",
     "text": [
      "Best parameters: {'sgd__alpha': 0.01, 'sgd__eta0': 0.03, 'sgd__learning_rate': 'constant'}\n",
      "Best score: -0.09953240696093649\n"
     ]
    }
   ],
   "execution_count": 52
  },
  {
   "metadata": {
    "ExecuteTime": {
     "end_time": "2024-07-25T13:36:04.705310Z",
     "start_time": "2024-07-25T13:36:04.701180Z"
    }
   },
   "cell_type": "code",
   "source": "",
   "id": "d2cd1b3d50d52ff7",
   "outputs": [],
   "execution_count": 47
  }
 ],
 "metadata": {
  "kernelspec": {
   "display_name": "Python 3",
   "language": "python",
   "name": "python3"
  },
  "language_info": {
   "codemirror_mode": {
    "name": "ipython",
    "version": 2
   },
   "file_extension": ".py",
   "mimetype": "text/x-python",
   "name": "python",
   "nbconvert_exporter": "python",
   "pygments_lexer": "ipython2",
   "version": "2.7.6"
  }
 },
 "nbformat": 4,
 "nbformat_minor": 5
}
